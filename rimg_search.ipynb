{
  "metadata": {
    "kernelspec": {
      "language": "python",
      "display_name": "Python 3",
      "name": "python3"
    },
    "language_info": {
      "name": "python",
      "version": "3.7.12",
      "mimetype": "text/x-python",
      "codemirror_mode": {
        "name": "ipython",
        "version": 3
      },
      "pygments_lexer": "ipython3",
      "nbconvert_exporter": "python",
      "file_extension": ".py"
    },
    "colab": {
      "name": "rimg-search.ipynb",
      "provenance": [],
      "include_colab_link": true
    },
    "accelerator": "GPU",
    "gpuClass": "standard"
  },
  "nbformat_minor": 0,
  "nbformat": 4,
  "cells": [
    {
      "cell_type": "markdown",
      "metadata": {
        "id": "view-in-github",
        "colab_type": "text"
      },
      "source": [
        "<a href=\"https://colab.research.google.com/github/lkarjun/reverse-image-search/blob/main/rimg_search.ipynb\" target=\"_parent\"><img src=\"https://colab.research.google.com/assets/colab-badge.svg\" alt=\"Open In Colab\"/></a>"
      ]
    },
    {
      "cell_type": "markdown",
      "source": [
        "## Packages"
      ],
      "metadata": {
        "id": "QgzmZhuUOCMa"
      }
    },
    {
      "cell_type": "code",
      "source": [
        "!pip install fastai -Uqq"
      ],
      "metadata": {
        "colab": {
          "base_uri": "https://localhost:8080/"
        },
        "id": "31ZigYCGOJMq",
        "outputId": "b43f3a1c-3da5-477e-cf06-a98d1972c44b"
      },
      "execution_count": 1,
      "outputs": [
        {
          "output_type": "stream",
          "name": "stdout",
          "text": [
            "\u001b[K     |████████████████████████████████| 197 kB 5.1 MB/s \n",
            "\u001b[K     |████████████████████████████████| 60 kB 8.3 MB/s \n",
            "\u001b[?25h"
          ]
        }
      ]
    },
    {
      "cell_type": "code",
      "source": [
        "from fastai.vision.all import *\n",
        "\n",
        "dataset_path = Path(\"../input/image-classification/images/images\")"
      ],
      "metadata": {
        "execution": {
          "iopub.status.busy": "2022-06-17T15:10:29.775043Z",
          "iopub.execute_input": "2022-06-17T15:10:29.775719Z",
          "iopub.status.idle": "2022-06-17T15:10:31.278969Z",
          "shell.execute_reply.started": "2022-06-17T15:10:29.775623Z",
          "shell.execute_reply": "2022-06-17T15:10:31.278073Z"
        },
        "trusted": true,
        "id": "WQoiVnjSOCMl"
      },
      "execution_count": 2,
      "outputs": []
    },
    {
      "cell_type": "markdown",
      "source": [
        "## Here we go"
      ],
      "metadata": {
        "id": "4W8mPwU0OCMo"
      }
    },
    {
      "cell_type": "markdown",
      "source": [
        "### Dataloader"
      ],
      "metadata": {
        "id": "8IIrymxSOCMp"
      }
    },
    {
      "cell_type": "code",
      "source": [
        "list_of_classes = ['architecure', 'art and culture']\n",
        "\n",
        "fnames = get_image_files(dataset_path/list_of_classes[0])[:300] + get_image_files(dataset_path/list_of_classes[1])[:300]"
      ],
      "metadata": {
        "trusted": true,
        "id": "b1KmvyefOCMq"
      },
      "execution_count": null,
      "outputs": []
    },
    {
      "cell_type": "code",
      "source": [
        "item_tfms = Resize(200)\n",
        "batch_tfms = [*aug_transforms(size=224, max_warp=0), Normalize.from_stats(*imagenet_stats)]\n",
        "bs=64"
      ],
      "metadata": {
        "trusted": true,
        "id": "6PLm1w0BOCMs"
      },
      "execution_count": null,
      "outputs": []
    },
    {
      "cell_type": "code",
      "source": [
        "dls = ImageDataLoaders.from_path_func(dataset_path, fnames, \n",
        "                                lambda x: x.parent.name,\n",
        "                                batch_tfms=batch_tfms, \n",
        "                                item_tfms=item_tfms, \n",
        "                                bs=bs)\n",
        "\n",
        "dls.show_batch(max_n = 3)"
      ],
      "metadata": {
        "trusted": true,
        "id": "pRPFl50LOCMu"
      },
      "execution_count": null,
      "outputs": []
    },
    {
      "cell_type": "code",
      "source": [
        "x, y = dls.one_batch()\n",
        "x.shape, y.shape"
      ],
      "metadata": {
        "trusted": true,
        "id": "ZcZ_fd4gOCMw"
      },
      "execution_count": null,
      "outputs": []
    },
    {
      "cell_type": "markdown",
      "source": [
        "### Model"
      ],
      "metadata": {
        "id": "lyetXvzsOCMz"
      }
    },
    {
      "cell_type": "code",
      "source": [
        "body = create_body(resnet34, cut=-2)"
      ],
      "metadata": {
        "trusted": true,
        "id": "macJl7ipOCM1"
      },
      "execution_count": null,
      "outputs": []
    },
    {
      "cell_type": "code",
      "source": [
        "head = create_head(nf = 512, n_out = 2)"
      ],
      "metadata": {
        "trusted": true,
        "id": "umRRmT4QOCM3"
      },
      "execution_count": null,
      "outputs": []
    },
    {
      "cell_type": "code",
      "source": [
        "class RImgModel(Module):\n",
        "    def __init__(self, body,head):\n",
        "        self.body = body\n",
        "        self.head = head\n",
        "    \n",
        "    def forward(self, x):\n",
        "        x = self.body(x)\n",
        "        x = self.head(x)\n",
        "        return self.head(x)"
      ],
      "metadata": {
        "trusted": true,
        "id": "sFSxiVlAOCM3"
      },
      "execution_count": null,
      "outputs": []
    },
    {
      "cell_type": "code",
      "source": [
        "m"
      ],
      "metadata": {
        "id": "odInu_QSOCM5"
      },
      "execution_count": null,
      "outputs": []
    },
    {
      "cell_type": "code",
      "source": [
        "model = RImgModel(body, head).cuda()"
      ],
      "metadata": {
        "trusted": true,
        "id": "5ojF3HAUOCM6"
      },
      "execution_count": null,
      "outputs": []
    },
    {
      "cell_type": "code",
      "source": [
        "sample = torch.randn(3, 400, 400).cuda()"
      ],
      "metadata": {
        "trusted": true,
        "id": "X49CZ146OCM7"
      },
      "execution_count": null,
      "outputs": []
    },
    {
      "cell_type": "code",
      "source": [
        "model(sample).shape"
      ],
      "metadata": {
        "trusted": true,
        "id": "LOIaE1dUOCM7"
      },
      "execution_count": null,
      "outputs": []
    },
    {
      "cell_type": "code",
      "source": [
        "def rimg_splitter(model):\n",
        "    return [params(model.encoder), params(model.feature_predict_head), params(model.head)]"
      ],
      "metadata": {
        "trusted": true,
        "id": "9Xu6LxVSOCM8"
      },
      "execution_count": null,
      "outputs": []
    },
    {
      "cell_type": "code",
      "source": [
        "learn = Learner(dls, model, splitter=rimg_splitter, metrics=accuracy)"
      ],
      "metadata": {
        "trusted": true,
        "id": "2_Bv5cWwOCM9"
      },
      "execution_count": null,
      "outputs": []
    },
    {
      "cell_type": "code",
      "source": [
        "learn.freeze()"
      ],
      "metadata": {
        "trusted": true,
        "id": "U1hSJxLVOCM-"
      },
      "execution_count": null,
      "outputs": []
    },
    {
      "cell_type": "code",
      "source": [
        "learn.fit_one_cycle(4, 3e-3)"
      ],
      "metadata": {
        "trusted": true,
        "id": "gy5WA3i9OCM_"
      },
      "execution_count": null,
      "outputs": []
    },
    {
      "cell_type": "code",
      "source": [
        ""
      ],
      "metadata": {
        "id": "4ORYU-1KOCNA"
      },
      "execution_count": null,
      "outputs": []
    }
  ]
}