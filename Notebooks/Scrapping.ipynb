{
 "cells": [
  {
   "cell_type": "code",
   "execution_count": 13,
   "metadata": {},
   "outputs": [],
   "source": [
    "from selenium import webdriver\n",
    "from selenium.webdriver.common.by import By\n",
    "from selenium.common.exceptions import NoSuchElementException\n",
    "from tqdm import tqdm\n",
    "import pandas as pd\n",
    "from bs4 import BeautifulSoup\n",
    "import time"
   ]
  },
  {
   "cell_type": "code",
   "execution_count": 2,
   "metadata": {},
   "outputs": [],
   "source": [
    "categories = ['shirt', 't-shirt', 'jacket', 'pants', 'skirt', \n",
    "             'shorts', 'shoes', 'sneakers', 'heels' ,'flats', \n",
    "             'dress', 'hats', 'bags']\n",
    "\n",
    "base_url = lambda pname, pn: f\"https://www.myntra.com/{pname}?p={pn}&rows=100\""
   ]
  },
  {
   "cell_type": "code",
   "execution_count": 3,
   "metadata": {},
   "outputs": [],
   "source": [
    "def with_driver(func):\n",
    "    def wrap(*args, **kwargs):\n",
    "        driver = webdriver.Edge()\n",
    "        data = func(driver = driver, *args, **kwargs)\n",
    "        driver.quit()\n",
    "        return data\n",
    "    return wrap"
   ]
  },
  {
   "cell_type": "code",
   "execution_count": 12,
   "metadata": {},
   "outputs": [],
   "source": [
    "def make_data(html, name):\n",
    "    data = []\n",
    "    soup = BeautifulSoup(html, \"html.parser\")\n",
    "    for product in soup.find_all('li',{'class':'product-base'}):\n",
    "        try:\n",
    "            product_source = product.find('a')['href']\n",
    "            product_img_url = product.find('picture').find('img')['src']\n",
    "            product_name = product.find('h3').text\n",
    "            product_price = product.find('span', {'class': 'product-discountedPrice'})\n",
    "            data.append({'product_category': name, \n",
    "                         'product_name': product_name, \n",
    "                         'product_price': product_price, \n",
    "                         'product_img_url': product_img_url,\n",
    "                         'product_source': product_source})\n",
    "        except:\n",
    "            pass\n",
    "    return data"
   ]
  },
  {
   "cell_type": "code",
   "execution_count": 14,
   "metadata": {},
   "outputs": [],
   "source": [
    "@with_driver\n",
    "def get_data(driver, product_names, pn = 20):\n",
    "    full_data = []\n",
    "    for product_name in tqdm(product_names, leave=False):\n",
    "        for n in range(1, pn+1):\n",
    "            url = base_url(product_name, n)\n",
    "            driver.get(url)\n",
    "            try:\n",
    "                element = driver.find_element(by=By.CLASS_NAME, value = 'results-base')\n",
    "            except NoSuchElementException:\n",
    "                continue\n",
    "            html = element.get_attribute('innerHTML')\n",
    "            full_data += make_data(html, product_name)\n",
    "        print(len(full_data))\n",
    "    return full_data"
   ]
  },
  {
   "cell_type": "code",
   "execution_count": null,
   "metadata": {},
   "outputs": [],
   "source": [
    "data = get_data(product_names=categories)"
   ]
  },
  {
   "cell_type": "code",
   "execution_count": 16,
   "metadata": {},
   "outputs": [],
   "source": [
    "df = pd.DataFrame.from_dict(data)"
   ]
  },
  {
   "cell_type": "code",
   "execution_count": 17,
   "metadata": {},
   "outputs": [
    {
     "data": {
      "text/plain": [
       "shirt       220\n",
       "t-shirt     220\n",
       "jacket      220\n",
       "pants       220\n",
       "skirt       220\n",
       "shorts      220\n",
       "shoes       220\n",
       "sneakers    220\n",
       "heels       220\n",
       "flats       220\n",
       "dress       220\n",
       "bags        209\n",
       "hats         55\n",
       "Name: product_category, dtype: int64"
      ]
     },
     "execution_count": 17,
     "metadata": {},
     "output_type": "execute_result"
    }
   ],
   "source": [
    "df.product_category.value_counts()"
   ]
  },
  {
   "cell_type": "code",
   "execution_count": 18,
   "metadata": {},
   "outputs": [],
   "source": [
    "df.to_csv(\"data.csv\", index = False)"
   ]
  },
  {
   "cell_type": "code",
   "execution_count": 56,
   "metadata": {},
   "outputs": [
    {
     "data": {
      "text/html": [
       "<div>\n",
       "<style scoped>\n",
       "    .dataframe tbody tr th:only-of-type {\n",
       "        vertical-align: middle;\n",
       "    }\n",
       "\n",
       "    .dataframe tbody tr th {\n",
       "        vertical-align: top;\n",
       "    }\n",
       "\n",
       "    .dataframe thead th {\n",
       "        text-align: right;\n",
       "    }\n",
       "</style>\n",
       "<table border=\"1\" class=\"dataframe\">\n",
       "  <thead>\n",
       "    <tr style=\"text-align: right;\">\n",
       "      <th></th>\n",
       "      <th>product_category</th>\n",
       "      <th>product_name</th>\n",
       "      <th>product_img_url</th>\n",
       "      <th>product_source</th>\n",
       "      <th>product_price</th>\n",
       "    </tr>\n",
       "  </thead>\n",
       "  <tbody>\n",
       "    <tr>\n",
       "      <th>0</th>\n",
       "      <td>shirt</td>\n",
       "      <td>Roadster</td>\n",
       "      <td>https://assets.myntassets.com/dpr_2,q_60,w_210...</td>\n",
       "      <td>shirts/roadster/roadster-men-black--grey-check...</td>\n",
       "      <td>Rs. 449</td>\n",
       "    </tr>\n",
       "    <tr>\n",
       "      <th>1</th>\n",
       "      <td>shirt</td>\n",
       "      <td>Dennis Lingo</td>\n",
       "      <td>https://assets.myntassets.com/dpr_2,q_60,w_210...</td>\n",
       "      <td>shirts/dennis-lingo/dennis-lingo-men-pink-slim...</td>\n",
       "      <td>Rs. 684</td>\n",
       "    </tr>\n",
       "    <tr>\n",
       "      <th>2</th>\n",
       "      <td>shirt</td>\n",
       "      <td>HIGHLANDER</td>\n",
       "      <td>https://assets.myntassets.com/dpr_2,q_60,w_210...</td>\n",
       "      <td>shirts/highlander/highlander-men-white--blue-s...</td>\n",
       "      <td>Rs. 597</td>\n",
       "    </tr>\n",
       "    <tr>\n",
       "      <th>3</th>\n",
       "      <td>shirt</td>\n",
       "      <td>H&amp;M</td>\n",
       "      <td>https://assets.myntassets.com/dpr_2,q_60,w_210...</td>\n",
       "      <td>shirts/hm/hm-men-black-relaxed-fit-linen-blend...</td>\n",
       "      <td>None</td>\n",
       "    </tr>\n",
       "  </tbody>\n",
       "</table>\n",
       "</div>"
      ],
      "text/plain": [
       "  product_category  product_name  \\\n",
       "0            shirt      Roadster   \n",
       "1            shirt  Dennis Lingo   \n",
       "2            shirt    HIGHLANDER   \n",
       "3            shirt           H&M   \n",
       "\n",
       "                                     product_img_url  \\\n",
       "0  https://assets.myntassets.com/dpr_2,q_60,w_210...   \n",
       "1  https://assets.myntassets.com/dpr_2,q_60,w_210...   \n",
       "2  https://assets.myntassets.com/dpr_2,q_60,w_210...   \n",
       "3  https://assets.myntassets.com/dpr_2,q_60,w_210...   \n",
       "\n",
       "                                      product_source product_price  \n",
       "0  shirts/roadster/roadster-men-black--grey-check...       Rs. 449  \n",
       "1  shirts/dennis-lingo/dennis-lingo-men-pink-slim...       Rs. 684  \n",
       "2  shirts/highlander/highlander-men-white--blue-s...       Rs. 597  \n",
       "3  shirts/hm/hm-men-black-relaxed-fit-linen-blend...          None  "
      ]
     },
     "execution_count": 56,
     "metadata": {},
     "output_type": "execute_result"
    }
   ],
   "source": [
    "df.head(4)"
   ]
  },
  {
   "cell_type": "code",
   "execution_count": null,
   "metadata": {},
   "outputs": [],
   "source": []
  }
 ],
 "metadata": {
  "kernelspec": {
   "display_name": "Python 3.10.4 64-bit",
   "language": "python",
   "name": "python3"
  },
  "language_info": {
   "codemirror_mode": {
    "name": "ipython",
    "version": 3
   },
   "file_extension": ".py",
   "mimetype": "text/x-python",
   "name": "python",
   "nbconvert_exporter": "python",
   "pygments_lexer": "ipython3",
   "version": "3.10.4"
  },
  "orig_nbformat": 4,
  "vscode": {
   "interpreter": {
    "hash": "a9cff5a362bc38ef45d817ae74b1af54d6a076e3d773891282bce078b815ba34"
   }
  }
 },
 "nbformat": 4,
 "nbformat_minor": 2
}
